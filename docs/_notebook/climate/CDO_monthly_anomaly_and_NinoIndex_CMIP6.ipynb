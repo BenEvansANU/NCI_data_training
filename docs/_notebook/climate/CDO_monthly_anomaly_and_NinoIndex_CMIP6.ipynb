{
 "cells": [
  {
   "cell_type": "markdown",
   "metadata": {},
   "source": [
    "![logo](../../_static/images/NCI_logo.png)\n",
    "\n",
    "-------\n",
    "\n",
    "# Calculate CMIP6 monthly anomaly and Nino34Index using CDO\n",
    "\n",
    "\n",
    "In this notebook:\n",
    "\n",
    "- Load CDO module\n",
    "- Look at the information of the file\n",
    "- calculate monthly anomaly\n",
    "- calculate Nino34Index\n",
    "- visulise the data using ncview \n",
    "\n",
    "The following material uses Coupled Model Intercomparison Project (CMIP6) collections. The CMIP6 terms of use are found [here](https://pcmdi.llnl.gov/CMIP6/TermsOfUse/TermsOfUse6-1.html). For more information on the collection, please [click here](https://geonetwork.nci.org.au/geonetwork/srv/eng/catalog.search#/metadata/f6600_2266_8675_3563).\n"
   ]
  },
  {
   "cell_type": "markdown",
   "metadata": {},
   "source": [
    "CDO stands for \"Cliamte Data Operators\". CDO is a collection of command line Operators to manipulate and analyse Climate and NWP model Data.\n",
    "Supported data formats are GRIB 1/2, netCDF 3/4, SERVICE, EXTRA and IEG. There are more than 600 operators available. See [here](https://code.mpimet.mpg.de/projects/cdo) for more information about this library."
   ]
  },
  {
   "cell_type": "markdown",
   "metadata": {},
   "source": [
    "### Load CDO module from Raijin"
   ]
  },
  {
   "cell_type": "markdown",
   "metadata": {},
   "source": [
    "```\n",
    "$ module load cdo\n",
    "```"
   ]
  },
  {
   "cell_type": "markdown",
   "metadata": {},
   "source": [
    "### List the path of the CMIP6 data"
   ]
  },
  {
   "cell_type": "markdown",
   "metadata": {},
   "source": [
    "Here we will be using CMIP6 data as an example. Let's see if this file exists, or whether the file path is correct.\n",
    "\n",
    "```\n",
    "$ ls /g/data/oi10/replicas/CMIP6/CMIP/NCAR/CESM2/historical/r1i1p1f1/Amon/tas/gn/v20190308/tas_Amon_CESM2_historical_r1i1p1f1_gn_185001-201412.nc\n",
    "```\n",
    "This file includes the near surface temperature from the 20th century all-forcing historical simulation based on CESM2.0 model of NCAR. "
   ]
  },
  {
   "cell_type": "markdown",
   "metadata": {},
   "source": [
    "### Have a look at the data file using cdo info"
   ]
  },
  {
   "cell_type": "markdown",
   "metadata": {},
   "source": [
    "Basic usage:\n",
    "```\n",
    "$ cdo info <filename> | less\n",
    "```\n",
    "\n",
    "**less** display only one page at a time in the termial. You can move forwards and backwards to see more. Press **q** to quit the view."
   ]
  },
  {
   "cell_type": "markdown",
   "metadata": {},
   "source": [
    "![1](images/cdo_anomoly_nino1.png)"
   ]
  },
  {
   "cell_type": "markdown",
   "metadata": {},
   "source": [
    "Use **ncview** to show the data:\n",
    "```\n",
    "$ ncview /g/data/oi10/replicas/CMIP6/CMIP/NCAR/CESM2/historical/r1i1p1f1/Amon/tas/gn/v20190308/tas_Amon_CESM2_historical_r1i1p1f1_gn_185001-201412.nc\n",
    "```\n",
    "\n",
    "The data looks like this "
   ]
  },
  {
   "cell_type": "markdown",
   "metadata": {},
   "source": [
    "![3](images/cdo_anomoly_nino3.png)"
   ]
  },
  {
   "cell_type": "markdown",
   "metadata": {},
   "source": [
    "### Let's see which year this file includes"
   ]
  },
  {
   "cell_type": "markdown",
   "metadata": {},
   "source": [
    "We use function **showyear** to display all the years in this file\n",
    "\n",
    "Basic usage:\n",
    "```\n",
    "$ cdo showyear <file>\n",
    "```"
   ]
  },
  {
   "cell_type": "markdown",
   "metadata": {},
   "source": [
    "![2](images/cdo_anomoly_nino2.png)"
   ]
  },
  {
   "cell_type": "markdown",
   "metadata": {},
   "source": [
    "### Calculate monthly anomaly "
   ]
  },
  {
   "cell_type": "markdown",
   "metadata": {},
   "source": [
    "In this exercise, we are going to calculate the monthly anomoly between 1971 and 2000. A few steps are in the following order:\n",
    "\n",
    "1. choose climatology years 1971-2000 \n",
    "2. calculate the monthly average during 1971-2000\n",
    "3. Subtract the monthly average from the original file to obtain the difference, i.e., anomaly.\n",
    "\n",
    "We need three functions to implement this procedure as below\n",
    "\n",
    "```\n",
    "$ cdo selyear, <year-range> <input.nc> <output.nc>\n",
    "```\n",
    "Select the years and generate a new file.\n",
    "\n",
    "```\n",
    "$ cdo ymonmean <input.nc> <output.nc>\n",
    "```\n",
    "Get the mean value of each month\n",
    "\n",
    "```\n",
    "$ cdo ymonsub <input1.nc> <input2.nc> <output.nc> \n",
    "```\n",
    "\n",
    "Get the difference between two input files and save an output file.\n",
    "\n",
    "However, if we do three steps, we will generate unecessary intermediate files. CDO allows piping multiple commands in a row. A way to chain these commands together is as the following:\n",
    "\n",
    "```\n",
    "$ cdo ymonsub input.nc -ymonmean -selyear,1971/2000 input.nc output.nc\n",
    "```\n",
    "\n",
    "**-ymonmean -selyear,1971/2000 input.nc** is treated as the monthly average file. \n",
    "\n",
    "```\n",
    "$ cdo ymonsub /g/data/oi10/replicas/CMIP6/CMIP/NCAR/CESM2/historical/r1i1p1f1/Amon/tas/gn/v20190308/tas_Amon_CESM2_historical_r1i1p1f1_gn_185001-201412.nc -ymonmean -selyear,1971/2000 /g/data/oi10/replicas/CMIP6/CMIP/NCAR/CESM2/historical/r1i1p1f1/Amon/tas/gn/v20190308/tas_Amon_CESM2_historical_r1i1p1f1_gn_185001-201412.nc tas_Amon_CESM2_historical_r1i1p1f1_gn_197101-200012_anomoly.nc\n",
    "```"
   ]
  },
  {
   "cell_type": "markdown",
   "metadata": {},
   "source": [
    "### Let's have a look at the monthly anomoly"
   ]
  },
  {
   "cell_type": "markdown",
   "metadata": {},
   "source": [
    "```\n",
    "$ module load ncview\n",
    "$ ncview tas_Amon_CESM2_historical_r1i1p1f1_gn_197101-200012_anomaly.nc\n",
    "```"
   ]
  },
  {
   "cell_type": "markdown",
   "metadata": {},
   "source": [
    "![4](images/cdo_anomoly_nino4.png)"
   ]
  },
  {
   "cell_type": "markdown",
   "metadata": {},
   "source": [
    "### Calculate Nino34 Index using monthly anomaly"
   ]
  },
  {
   "cell_type": "markdown",
   "metadata": {},
   "source": [
    "To calcuate Nino34 Index, we need to choose the Nino34 region with lat/lon bbox = (-170,-120,-5,5)\n",
    "\n",
    "```\n",
    "$ cdo sellonlatbox,-170,-120,-5,5 tas_Amon_CESM2_historical_r1i1p1f1_gn_197101-200012_anomaly.nc Nino34Region.nc\n",
    "```\n",
    "Then use function **fldavg** to calculate the field average, and save the result as the Nino34 index.\n",
    "\n",
    "```\n",
    "$ cdo fldavg Nino34Region.nc Nino34Idx.nc\n",
    "```"
   ]
  },
  {
   "cell_type": "code",
   "execution_count": null,
   "metadata": {},
   "outputs": [],
   "source": []
  }
 ],
 "metadata": {
  "kernelspec": {
   "display_name": "Python 3",
   "language": "python",
   "name": "python3"
  },
  "language_info": {
   "codemirror_mode": {
    "name": "ipython",
    "version": 3
   },
   "file_extension": ".py",
   "mimetype": "text/x-python",
   "name": "python",
   "nbconvert_exporter": "python",
   "pygments_lexer": "ipython3",
   "version": "3.7.3"
  }
 },
 "nbformat": 4,
 "nbformat_minor": 2
}
