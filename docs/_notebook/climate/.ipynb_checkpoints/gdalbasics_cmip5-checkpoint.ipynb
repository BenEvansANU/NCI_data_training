{
 "cells": [
  {
   "cell_type": "markdown",
   "metadata": {},
   "source": [
    "<img src=\"../../_static/images/NCI_logo.png\" style=\"max-width:100%; width: 50%\">\n",
    "\n",
    "-------\n",
    "\n",
    "# Using the GDAL library with NetCDF files\n",
    "\n",
    "**Version: 2.2.2** \n",
    "\n",
    "In this notebook:\n",
    "\n",
    "How to use GDAL to view file contents and metadata information. \n",
    "\n",
    "The following material uses Coupled Model Intercomparison Project (CMIP5) collections. The CMIP5 terms of use are found [here](https://cmip.llnl.gov/cmip5/terms.html). For more information on the collection, please [click here](https://geonetwork.nci.org.au/geonetwork/srv/eng/catalog.search#/metadata/f3525_9322_8600_7716).\n",
    "\n",
    "---------"
   ]
  },
  {
   "cell_type": "markdown",
   "metadata": {},
   "source": [
    "**GDAL** stands for “Geospatial Data Abstraction Library”. [\"GDAL is a collection of software that helps with the translation of data from different file formats, data types, and map projections. It’s used in free software like QGIS and GRASS, and even some commercial applications like ESRI ArcGIS and Avenza Geographic Imager/MAPublisher.\"](https://medium.com/planet-stories/a-gentle-introduction-to-gdal-part-1-a3253eb96082)\n",
    "\n",
    "**Load the GDAL library**\n",
    "\n",
    "```\n",
    "$ module load gdal/2.2.2-nopy\n",
    "```\n",
    "\n",
    "<div class=\"alert alert-info\">\n",
    "<b>NOTE: </b> **GDAL** supports about 100 raster formats. \n",
    "- ArcInfo grids, ArcSDE raster, Imagine, Idrisi, ENVI, GRASS, GeoTIFF\n",
    "- HDF4, HDF5\n",
    "- USGS DOQ, USGS DEM\n",
    "- ECW, MrSID\n",
    "- TIFF, JPEG, JPEG2000, PNG, GIF, BMP\n",
    "\n",
    "**See http://www.gdal.org/formats_list.html**\n",
    "</div>\n",
    "\n",
    "\n"
   ]
  },
  {
   "cell_type": "markdown",
   "metadata": {},
   "source": [
    "**The gdalinfo command**"
   ]
  },
  {
   "cell_type": "markdown",
   "metadata": {},
   "source": [
    "To see what formats are compiled into your version of GDAL, use this command\n",
    "\n",
    "```\n",
    "$ gdalinfo --formats \n",
    "```\n",
    "To view information on file contents, use `gdalinfo` followed by the file path\n",
    "\n",
    "```\n",
    "$ gdalinfo <file> \n",
    "```\n",
    "\n",
    "\n",
    "**E.g.,**\n",
    "```\n",
    "$ /g/data/rr3/publications/CMIP5/output1/CSIRO-BOM/ACCESS1-0/rcp85/mon/ocean/Omon/r1i1p1/latest/pr/pr_Omon_ACCESS1-0_rcp85_r1i1p1_200601-210012.nc\n",
    "```"
   ]
  },
  {
   "cell_type": "markdown",
   "metadata": {},
   "source": [
    "\n",
    "\n",
    "This will display the top-level (or global) metadata for the file along with the subdatasets and coordinate reference system information. "
   ]
  },
  {
   "cell_type": "markdown",
   "metadata": {},
   "source": [
    "**Read and display subdataset metadata contents**"
   ]
  },
  {
   "cell_type": "markdown",
   "metadata": {},
   "source": [
    "![2](images/gdalinfo2_cmip5.png)"
   ]
  },
  {
   "cell_type": "markdown",
   "metadata": {},
   "source": [
    "![1](images/gdalinfo1_cmip5.png)"
   ]
  },
  {
   "cell_type": "markdown",
   "metadata": {},
   "source": [
    "**Note**: For netCDF and HDF files, this will typically be empty until selecting a subdataset (example below). "
   ]
  },
  {
   "cell_type": "markdown",
   "metadata": {},
   "source": [
    "To read the subdataset contents (in this case one of the netCDF variables): \n",
    "\n",
    "```\n",
    "$ gdalinfo <file> | grep SUBDATASET\n",
    "$ gdalinfo NETCDF:<file>:<subdataset>\n",
    "```\n",
    "\n",
    "This will display the metadata of that subdataset or variable and the coordinate reference system (CRS) information (if included). \n",
    "\n",
    "For example:\n",
    "\n",
    "```\n",
    "$ gdalinfo NETCDF:/g/data/rr3/publications/CMIP5/output1/CSIRO-BOM/ACCESS1-0/rcp85/mon/ocean/Omon/r1i1p1/latest/pr/pr_Omon_ACCESS1-0_rcp85_r1i1p1_200601-210012.nc:pr\n",
    " \n",
    "```\n",
    "Gdalinfo displays the number of bands into this subdataset. There are metadata attached to each band. In this example, the metadata informs us that each band correspond to an array of monthly Rainfall Flux where Ice Free Ocean over Sea from Jan 2006 to Dec 2100. There are 1140\n",
    "months of data in this subdataset. You may also use `gdal_translate` for reading the subdataset.\n",
    "\n",
    "![3](images/gdalinfo3_cmip5.png)\n",
    "\n",
    "-------\n",
    "SRS=GEOGCS[\"WGS 84\",DATUM[\"WGS_1984\",SPHEROID[\"WGS 84\",6378137,298.257223563,AUTHORITY[\"EPSG\",\"7030\"]],AUTHORITY[\"\n",
    "EPSG\",\"6326\"]],PRIMEM[\"Greenwich\",0,AUTHORITY[\"EPSG\",\"8901\"]],UNIT[\"degree\",0.0174532925199433,AUTHORITY[\"EPSG\",\"912\n",
    "2\"]],AUTHORITY[\"EPSG\",\"4326\"]]\n",
    "\n",
    "\n",
    "**Note:** If CRS information is included within the file but not displayed, the GDAL library is not properly understanding the projection information. Projection information needs to be reformatted.\n",
    "\n"
   ]
  },
  {
   "cell_type": "markdown",
   "metadata": {},
   "source": [
    "More examples of `gdal_translate` and `gdalwarp` are to be added here in the near future.\n",
    "\n",
    "**Note: You might be interested in this  [GDAL cheat sheet](https://github.com/dwtkns/gdal-cheat-sheet).**\n"
   ]
  }
 ],
 "metadata": {
  "anaconda-cloud": {},
  "kernelspec": {
   "display_name": "Python 3",
   "language": "python",
   "name": "python3"
  },
  "language_info": {
   "codemirror_mode": {
    "name": "ipython",
    "version": 3
   },
   "file_extension": ".py",
   "mimetype": "text/x-python",
   "name": "python",
   "nbconvert_exporter": "python",
   "pygments_lexer": "ipython3",
   "version": "3.7.3"
  }
 },
 "nbformat": 4,
 "nbformat_minor": 1
}
