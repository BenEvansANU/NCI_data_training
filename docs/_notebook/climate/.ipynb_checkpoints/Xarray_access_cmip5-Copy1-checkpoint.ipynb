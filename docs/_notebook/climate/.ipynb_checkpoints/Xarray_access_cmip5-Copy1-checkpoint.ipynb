{
 "cells": [
  {
   "cell_type": "markdown",
   "metadata": {},
   "source": [
    "# Access CMIP data using Xarray\n",
    "\n",
    "In this notebook:\n",
    "\n",
    "* Launch Jupyter Notebook \n",
    "* What is Xarray\n",
    "* Remote vs. direct filesystem access \n",
    "* File Variables and Attributes\n",
    "\n",
    "    \n",
    "---------\n"
   ]
  },
  {
   "cell_type": "markdown",
   "metadata": {
    "collapsed": true
   },
   "source": [
    "### Launch the Jupyter Notebook application\n",
    "\n",
    "\n",
    "Launch the Jupyter Notebook application:\n",
    "```\n",
    "    $ jupyter notebook\n",
    "``` \n",
    "\n",
    "<div class=\"alert alert-info\">\n",
    "<b>NOTE: </b> This will launch the <b>Notebook Dashboard</b> within a new web browser window. \n",
    "</div>\n",
    "\n",
    "<br>\n",
    "\n"
   ]
  },
  {
   "cell_type": "markdown",
   "metadata": {},
   "source": [
    "### Xarray\n",
    "\n",
    "Xarray builds upon and extends the strengths of pandas and numpy. Numpy provides the structure and core for working with multi-dimensional arrays while pandas integrates its indexing and dataframe type capabilities. Xarray is actively developed by the climate science community and a useful tool for analysis. For more information on the developments being undertaken (along with other related projects) see the Pangeo community: https://pangeo.io/\n",
    " \n",
    "We will use xarray to open the CMIP5 file defined below. Opening a file with xarray creates an xarray.Dataset. A 'Dataset' is a collection of multiple variables. A DataArray on the other hand is a single multi-dimensional variable and the coordinates.\n",
    " \n",
    "xarray always loads netCDF data 'lazily', this means that data can be manipulated, sliced and subset without loading array values into memory. Data is loaded into memory when the load() command is applied or when a computaiton is performed on the data.\n",
    " \n",
    "xarray is designed for use with multidimensional datasets and is particularly useful for climate data on multidimensional grids with dimensions such as lat, lon, depth and time"
   ]
  },
  {
   "cell_type": "markdown",
   "metadata": {},
   "source": [
    "#### Import the xarray and netCDF modules"
   ]
  },
  {
   "cell_type": "code",
   "execution_count": 1,
   "metadata": {},
   "outputs": [],
   "source": [
    "import xarray as xr\n",
    "import netCDF4 as nc\n",
    "%matplotlib inline"
   ]
  },
  {
   "cell_type": "markdown",
   "metadata": {},
   "source": [
    "### Remote vs. direct filesystem access\n",
    "\n",
    "In this example, we will use a file from the CMIP5 Australian Published data collection, specifically the monthly historical tasmax data:\n",
    "\n",
    "    /g/data/rr3/publications/CMIP5/output1/CSIRO-BOM/ACCESS1-3/historical/mon/atmos/Amon/r1i1p1/v20120727/tasmax/tasmax_Amon_ACCESS1-0_historical_r1i1p1_185001-200512.nc\n",
    "    \n",
    "\n",
    "and we are going to compare direct vs. remote access. Timings (using the `%%time` magic function) will also be shown to help illustrate when it can be useful to conduct analysis on the filesystem."
   ]
  },
  {
   "cell_type": "markdown",
   "metadata": {},
   "source": [
    "#### Local path on /g/data"
   ]
  },
  {
   "cell_type": "code",
   "execution_count": 2,
   "metadata": {},
   "outputs": [],
   "source": [
    "path = '/g/data/rr3/publications/CMIP5/output1/CSIRO-BOM/ACCESS1-3/historical/mon/atmos/\\\n",
    "Amon/r1i1p1/v20130325/tasmax/tasmax_Amon_ACCESS1-3_historical_r1i1p1_185001-200512.nc'"
   ]
  },
  {
   "cell_type": "markdown",
   "metadata": {},
   "source": [
    "#### OPeNDAP Data URL\n",
    "\n",
    "For more information on where to find OPeNDAP URL's, see:\n",
    "<a href=\"https://nbviewer.jupyter.org/github/nci-training/readthedoc_NCI_data_training/blob/master/docs/_notebook/TDS/tds_OPeNDAP_cmip5.ipynb\">THREDDS Data Server: Data Access</a>\n"
   ]
  },
  {
   "cell_type": "code",
   "execution_count": 3,
   "metadata": {},
   "outputs": [],
   "source": [
    "url = 'http://dapds00.nci.org.au/thredds/dodsC/rr3/CMIP5/output1/CSIRO-BOM/ACCESS1-3/historical/mon/atmos/\\\n",
    "Amon/r1i1p1/v20130325/tasmax/tasmax_Amon_ACCESS1-3_historical_r1i1p1_185001-200512.nc'"
   ]
  },
  {
   "cell_type": "markdown",
   "metadata": {},
   "source": [
    "#### Open the file, comparing the time on the local filesystem and remote url"
   ]
  },
  {
   "cell_type": "code",
   "execution_count": 4,
   "metadata": {},
   "outputs": [
    {
     "name": "stdout",
     "output_type": "stream",
     "text": [
      "CPU times: user 765 ms, sys: 61 ms, total: 826 ms\n",
      "Wall time: 7.67 s\n"
     ]
    }
   ],
   "source": [
    "%%time\n",
    "f1 = xr.open_dataset(path)"
   ]
  },
  {
   "cell_type": "code",
   "execution_count": 5,
   "metadata": {},
   "outputs": [
    {
     "name": "stdout",
     "output_type": "stream",
     "text": [
      "CPU times: user 734 ms, sys: 17 ms, total: 751 ms\n",
      "Wall time: 7.23 s\n"
     ]
    }
   ],
   "source": [
    "%%time\n",
    "f2 = xr.open_dataset(url)"
   ]
  },
  {
   "cell_type": "markdown",
   "metadata": {},
   "source": [
    "#### Not much different in times because of the lazy loading of data. But if force the data to load into memory:"
   ]
  },
  {
   "cell_type": "code",
   "execution_count": 6,
   "metadata": {},
   "outputs": [
    {
     "name": "stdout",
     "output_type": "stream",
     "text": [
      "CPU times: user 1.11 s, sys: 305 ms, total: 1.41 s\n",
      "Wall time: 3.15 s\n"
     ]
    },
    {
     "data": {
      "text/plain": [
       "<xarray.DataArray 'tasmax' (time: 1872, lat: 145, lon: 192)>\n",
       "array([[[242.22649, 242.22649, ..., 242.22028, 242.22028],\n",
       "        [243.91931, 243.87326, ..., 244.00957, 243.96425],\n",
       "        ...,\n",
       "        [241.69199, 241.74554, ..., 241.68051, 241.69809],\n",
       "        [240.87485, 240.87485, ..., 240.87485, 240.87485]],\n",
       "\n",
       "       [[235.21791, 235.21791, ..., 235.2146 , 235.2146 ],\n",
       "        [237.052  , 237.029  , ..., 237.13855, 237.09853],\n",
       "        ...,\n",
       "        [238.93102, 238.94348, ..., 238.8793 , 238.91093],\n",
       "        [236.43845, 236.43845, ..., 236.43845, 236.43845]],\n",
       "\n",
       "       ...,\n",
       "\n",
       "       [[240.10124, 240.10124, ..., 240.09166, 240.09166],\n",
       "        [241.85622, 241.80452, ..., 241.93628, 241.88435],\n",
       "        ...,\n",
       "        [260.00974, 260.02213, ..., 259.99246, 260.0092 ],\n",
       "        [258.00223, 258.00223, ..., 258.00223, 258.00223]],\n",
       "\n",
       "       [[247.96088, 247.96088, ..., 247.93704, 247.93704],\n",
       "        [248.94565, 248.89906, ..., 249.03673, 248.98915],\n",
       "        ...,\n",
       "        [249.8625 , 249.90404, ..., 249.77002, 249.82123],\n",
       "        [248.79779, 248.79779, ..., 248.79779, 248.79779]]], dtype=float32)\n",
       "Coordinates:\n",
       "  * time     (time) datetime64[ns] 1850-01-16T12:00:00 ... 2005-12-16T12:00:00\n",
       "  * lat      (lat) float64 -90.0 -88.75 -87.5 -86.25 ... 86.25 87.5 88.75 90.0\n",
       "  * lon      (lon) float64 0.0 1.875 3.75 5.625 7.5 ... 352.5 354.4 356.2 358.1\n",
       "    height   float64 1.5\n",
       "Attributes:\n",
       "    standard_name:     air_temperature\n",
       "    long_name:         Daily Maximum Near-Surface Air Temperature\n",
       "    comment:           monthly mean of the daily-maximum near-surface air tem...\n",
       "    units:             K\n",
       "    cell_methods:      time: maximum within days time: mean over days\n",
       "    cell_measures:     area: areacella\n",
       "    history:           2013-03-25T05:03:31Z altered by CMOR: Treated scalar d...\n",
       "    associated_files:  baseURL: http://cmip-pcmdi.llnl.gov/CMIP5/dataLocation..."
      ]
     },
     "execution_count": 6,
     "metadata": {},
     "output_type": "execute_result"
    }
   ],
   "source": [
    "%%time\n",
    "f1 = xr.open_dataset(path)\n",
    "tasmax = f1.tasmax\n",
    "tasmax.load()"
   ]
  },
  {
   "cell_type": "code",
   "execution_count": 7,
   "metadata": {},
   "outputs": [
    {
     "name": "stdout",
     "output_type": "stream",
     "text": [
      "CPU times: user 2.23 s, sys: 621 ms, total: 2.85 s\n",
      "Wall time: 4.59 s\n"
     ]
    },
    {
     "data": {
      "text/plain": [
       "<xarray.DataArray 'tasmax' (time: 1872, lat: 145, lon: 192)>\n",
       "array([[[242.22649, 242.22649, ..., 242.22028, 242.22028],\n",
       "        [243.91931, 243.87326, ..., 244.00957, 243.96425],\n",
       "        ...,\n",
       "        [241.69199, 241.74554, ..., 241.68051, 241.69809],\n",
       "        [240.87485, 240.87485, ..., 240.87485, 240.87485]],\n",
       "\n",
       "       [[235.21791, 235.21791, ..., 235.2146 , 235.2146 ],\n",
       "        [237.052  , 237.029  , ..., 237.13855, 237.09853],\n",
       "        ...,\n",
       "        [238.93102, 238.94348, ..., 238.8793 , 238.91093],\n",
       "        [236.43845, 236.43845, ..., 236.43845, 236.43845]],\n",
       "\n",
       "       ...,\n",
       "\n",
       "       [[240.10124, 240.10124, ..., 240.09166, 240.09166],\n",
       "        [241.85622, 241.80452, ..., 241.93628, 241.88435],\n",
       "        ...,\n",
       "        [260.00974, 260.02213, ..., 259.99246, 260.0092 ],\n",
       "        [258.00223, 258.00223, ..., 258.00223, 258.00223]],\n",
       "\n",
       "       [[247.96088, 247.96088, ..., 247.93704, 247.93704],\n",
       "        [248.94565, 248.89906, ..., 249.03673, 248.98915],\n",
       "        ...,\n",
       "        [249.8625 , 249.90404, ..., 249.77002, 249.82123],\n",
       "        [248.79779, 248.79779, ..., 248.79779, 248.79779]]], dtype=float32)\n",
       "Coordinates:\n",
       "  * time     (time) datetime64[ns] 1850-01-16T12:00:00 ... 2005-12-16T12:00:00\n",
       "  * lat      (lat) float64 -90.0 -88.75 -87.5 -86.25 ... 86.25 87.5 88.75 90.0\n",
       "  * lon      (lon) float64 0.0 1.875 3.75 5.625 7.5 ... 352.5 354.4 356.2 358.1\n",
       "    height   float64 1.5\n",
       "Attributes:\n",
       "    standard_name:     air_temperature\n",
       "    long_name:         Daily Maximum Near-Surface Air Temperature\n",
       "    comment:           monthly mean of the daily-maximum near-surface air tem...\n",
       "    units:             K\n",
       "    cell_methods:      time: maximum within days time: mean over days\n",
       "    cell_measures:     area: areacella\n",
       "    history:           2013-03-25T05:03:31Z altered by CMOR: Treated scalar d...\n",
       "    associated_files:  baseURL: http://cmip-pcmdi.llnl.gov/CMIP5/dataLocation..."
      ]
     },
     "execution_count": 7,
     "metadata": {},
     "output_type": "execute_result"
    }
   ],
   "source": [
    "%%time\n",
    "f2 = xr.open_dataset(url)\n",
    "tasmax = f2.tasmax\n",
    "tasmax.load()"
   ]
  },
  {
   "cell_type": "markdown",
   "metadata": {},
   "source": [
    "<div class=\"alert alert-info\">\n",
    "One big advantage of working directly on the filesystem is that data access is much faster. For modest subsets, the difference is quite small but as you work with larger data, remote access can become much slower or even exceed NCI's THREDDS Data Server memory limits. </div>"
   ]
  },
  {
   "cell_type": "markdown",
   "metadata": {},
   "source": [
    "### File variables and attributes\n",
    "\n",
    "With xarray, you can easily view the dataset variables and attributes contained in the file by printing the loaded metadata"
   ]
  },
  {
   "cell_type": "code",
   "execution_count": 8,
   "metadata": {},
   "outputs": [
    {
     "name": "stdout",
     "output_type": "stream",
     "text": [
      "<xarray.Dataset>\n",
      "Dimensions:    (bnds: 2, lat: 145, lon: 192, time: 1872)\n",
      "Coordinates:\n",
      "  * time       (time) datetime64[ns] 1850-01-16T12:00:00 ... 2005-12-16T12:00:00\n",
      "  * lat        (lat) float64 -90.0 -88.75 -87.5 -86.25 ... 86.25 87.5 88.75 90.0\n",
      "  * lon        (lon) float64 0.0 1.875 3.75 5.625 ... 352.5 354.4 356.2 358.1\n",
      "    height     float64 ...\n",
      "Dimensions without coordinates: bnds\n",
      "Data variables:\n",
      "    time_bnds  (time, bnds) datetime64[ns] ...\n",
      "    lat_bnds   (lat, bnds) float64 ...\n",
      "    lon_bnds   (lon, bnds) float64 ...\n",
      "    tasmax     (time, lat, lon) float32 ...\n",
      "Attributes:\n",
      "    institution:            CSIRO (Commonwealth Scientific and Industrial Res...\n",
      "    institute_id:           CSIRO-BOM\n",
      "    experiment_id:          historical\n",
      "    source:                 ACCESS1.3 2011. Atmosphere: AGCM v1.0 (N96 grid-p...\n",
      "    model_id:               ACCESS1.3\n",
      "    forcing:                GHG, Oz, SA, Sl, Vl, BC, OC, (GHG = CO2, N2O, CH4...\n",
      "    parent_experiment_id:   piControl\n",
      "    parent_experiment_rip:  r1i1p1\n",
      "    branch_time:            90945.0\n",
      "    contact:                The ACCESS wiki: http://wiki.csiro.au/confluence/...\n",
      "    history:                CMIP5 compliant file produced from raw ACCESS mod...\n",
      "    references:             See http://wiki.csiro.au/confluence/display/ACCES...\n",
      "    initialization_method:  1\n",
      "    physics_version:        1\n",
      "    tracking_id:            4812760c-1bb3-4142-8a49-17f7cac2a89a\n",
      "    version_number:         v20130325\n",
      "    product:                output\n",
      "    experiment:             historical\n",
      "    frequency:              mon\n",
      "    creation_date:          2013-03-25T05:03:32Z\n",
      "    Conventions:            CF-1.4\n",
      "    project_id:             CMIP5\n",
      "    table_id:               Table Amon (01 February 2012) 01388cb4507c2f05326...\n",
      "    title:                  ACCESS1.3 model output prepared for CMIP5 historical\n",
      "    parent_experiment:      pre-industrial control\n",
      "    modeling_realm:         atmos\n",
      "    realization:            1\n",
      "    cmor_version:           2.8.3\n"
     ]
    }
   ],
   "source": [
    "f1 = xr.open_dataset(path)\n",
    "print(f1)"
   ]
  },
  {
   "cell_type": "markdown",
   "metadata": {},
   "source": [
    "### Dataset and DataArray\n",
    "\n",
    "In the above we have loaded the Dataset and you can see the multiple variables included in the file. If we look at a specific variable, like tasmax, we will get an xarray.DataArray with its coordinates."
   ]
  },
  {
   "cell_type": "code",
   "execution_count": 9,
   "metadata": {},
   "outputs": [
    {
     "name": "stdout",
     "output_type": "stream",
     "text": [
      "<xarray.DataArray 'tasmax' (time: 1872, lat: 145, lon: 192)>\n",
      "[52116480 values with dtype=float32]\n",
      "Coordinates:\n",
      "  * time     (time) datetime64[ns] 1850-01-16T12:00:00 ... 2005-12-16T12:00:00\n",
      "  * lat      (lat) float64 -90.0 -88.75 -87.5 -86.25 ... 86.25 87.5 88.75 90.0\n",
      "  * lon      (lon) float64 0.0 1.875 3.75 5.625 7.5 ... 352.5 354.4 356.2 358.1\n",
      "    height   float64 ...\n",
      "Attributes:\n",
      "    standard_name:     air_temperature\n",
      "    long_name:         Daily Maximum Near-Surface Air Temperature\n",
      "    comment:           monthly mean of the daily-maximum near-surface air tem...\n",
      "    units:             K\n",
      "    cell_methods:      time: maximum within days time: mean over days\n",
      "    cell_measures:     area: areacella\n",
      "    history:           2013-03-25T05:03:31Z altered by CMOR: Treated scalar d...\n",
      "    associated_files:  baseURL: http://cmip-pcmdi.llnl.gov/CMIP5/dataLocation...\n"
     ]
    }
   ],
   "source": [
    "f1 = xr.open_dataset(path)\n",
    "print(f1.tasmax)"
   ]
  },
  {
   "cell_type": "markdown",
   "metadata": {},
   "source": [
    "#### Print an attribute\n",
    "The attributes of a variable can be easily accessed using the `.<attribute>` command. So if we want to print the units of tasmax we could go:"
   ]
  },
  {
   "cell_type": "code",
   "execution_count": 10,
   "metadata": {},
   "outputs": [
    {
     "data": {
      "text/plain": [
       "'K'"
      ]
     },
     "execution_count": 10,
     "metadata": {},
     "output_type": "execute_result"
    }
   ],
   "source": [
    "f1.tasmax.units"
   ]
  }
 ],
 "metadata": {
  "anaconda-cloud": {},
  "kernelspec": {
   "display_name": "Python 3",
   "language": "python",
   "name": "python3"
  },
  "language_info": {
   "codemirror_mode": {
    "name": "ipython",
    "version": 3
   },
   "file_extension": ".py",
   "mimetype": "text/x-python",
   "name": "python",
   "nbconvert_exporter": "python",
   "pygments_lexer": "ipython3",
   "version": "3.7.3"
  }
 },
 "nbformat": 4,
 "nbformat_minor": 1
}
