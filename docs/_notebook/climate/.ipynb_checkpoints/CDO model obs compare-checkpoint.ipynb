{
 "cells": [
  {
   "cell_type": "markdown",
   "metadata": {},
   "source": [
    "![logo](../../_static/images/NCI_logo.png)\n",
    "\n",
    "-------\n",
    "\n",
    "# Use cdo to do compare model and observation data\n",
    "\n",
    "\n",
    "In this notebook:\n",
    "\n",
    "- Load CDO module\n",
    "- Look at the information of data files\n",
    "- Concatenate data files\n",
    "- Data remapping\n",
    "- Compare between model and obs data \n",
    "\n",
    "The following material uses Coupled Model Intercomparison Project (CMIP6) collections. The CMIP6 terms of use are found [here](https://pcmdi.llnl.gov/CMIP6/TermsOfUse/TermsOfUse6-1.html). For more information on the collection, please [click here](https://geonetwork.nci.org.au/geonetwork/srv/eng/catalog.search#/metadata/f6600_2266_8675_3563).\n"
   ]
  },
  {
   "cell_type": "markdown",
   "metadata": {},
   "source": [
    "CDO stands for \"Cliamte Data Operators\". CDO is a collection of command line Operators to manipulate and analyse Climate and NWP model Data.\n",
    "Supported data formats are GRIB 1/2, netCDF 3/4, SERVICE, EXTRA and IEG. There are more than 600 operators available. See [here](https://code.mpimet.mpg.de/projects/cdo) for more information about this library."
   ]
  },
  {
   "cell_type": "markdown",
   "metadata": {},
   "source": [
    "### Load CDO module"
   ]
  },
  {
   "cell_type": "markdown",
   "metadata": {},
   "source": [
    "```\n",
    "$ module load cdo\n",
    "```"
   ]
  },
  {
   "cell_type": "markdown",
   "metadata": {},
   "source": [
    "### Let's look at the near surface temperature from the 20th century all-forcing historical simulation based on CESM2.0 model of NCAR "
   ]
  },
  {
   "cell_type": "markdown",
   "metadata": {},
   "source": [
    "```\n",
    "$ ls /g/data/oi10/replicas/CMIP6/CMIP/NCAR/CESM2/historical/r1i1p1f1/Amon/tas/gn/v20190308/tas_Amon_CESM2_historical_r1i1p1f1_gn_185001-201412.nc\n",
    "```"
   ]
  },
  {
   "cell_type": "markdown",
   "metadata": {},
   "source": [
    "### Have a look at the data file using cdo info"
   ]
  },
  {
   "cell_type": "markdown",
   "metadata": {},
   "source": [
    "Basic usage:\n",
    "```\n",
    "$ cdo info <filename> | less\n",
    "```\n",
    "\n",
    "**less** display only one page at a time in the termial. You can move forwards and backwards to see more. Press **q** to quit the view."
   ]
  },
  {
   "cell_type": "markdown",
   "metadata": {},
   "source": [
    "Use **ncview** to show the data:\n",
    "```\n",
    "$ ncview /g/data/oi10/replicas/CMIP6/CMIP/NCAR/CESM2/historical/r1i1p1f1/Amon/tas/gn/v20190308/tas_Amon_CESM2_historical_r1i1p1f1_gn_185001-201412.nc\n",
    "```"
   ]
  },
  {
   "cell_type": "markdown",
   "metadata": {},
   "source": [
    "![1](images/cdo_anomoly_nino3.png)"
   ]
  },
  {
   "cell_type": "markdown",
   "metadata": {},
   "source": [
    "### Let's see which year this file includes"
   ]
  },
  {
   "cell_type": "markdown",
   "metadata": {},
   "source": [
    "We use function **showyear** to display all the years in this file\n",
    "\n",
    "Basic usage:\n",
    "```\n",
    "$ cdo showyear <file>\n",
    "```"
   ]
  },
  {
   "cell_type": "markdown",
   "metadata": {},
   "source": [
    "![2](images/cdo_anomoly_nino2.png)"
   ]
  },
  {
   "cell_type": "markdown",
   "metadata": {},
   "source": [
    "### Select only 10 year data from the original model file"
   ]
  },
  {
   "cell_type": "markdown",
   "metadata": {},
   "source": [
    "**basic usage**:\n",
    "\n",
    "cdo selyear, stratyear/endyear <input.nc> <output.nc>\n",
    "\n",
    "```\n",
    "$ cdo selyear,1991/2000 /g/data/oi10/replicas/CMIP6/CMIP/NCAR/CESM2/historical/r1i1p1f1/Amon/tas/gn/v20190308/tas_Amon_CESM2_historical_r1i1p1f1_gn_185001-201412.nc  tas_Amon_CESM2_historical_r1i1p1f1_gn_199101-200012.nc \n",
    "```"
   ]
  },
  {
   "cell_type": "markdown",
   "metadata": {},
   "source": [
    "### HadCRU temperature observation file"
   ]
  },
  {
   "cell_type": "markdown",
   "metadata": {},
   "source": [
    "\n",
    "```\n",
    "$ ls -l /short/public/jbw900/HADCRU/HADCRU | grep _tas_\n",
    "```\n",
    "I used 'grep _tas_' here to only show tas data"
   ]
  },
  {
   "attachments": {},
   "cell_type": "markdown",
   "metadata": {},
   "source": [
    "![3](images/cdo_comp1.png)"
   ]
  },
  {
   "cell_type": "markdown",
   "metadata": {},
   "source": [
    "### Concatenate yearly HADCRU data together"
   ]
  },
  {
   "cell_type": "markdown",
   "metadata": {},
   "source": [
    "```\n",
    "$ for year in ` seq 1991 2000 `\n",
    "$ do \n",
    "$ cdo cat /short/public/jbw900/HADCRU/HADCRU/HADCRU_tas_${year}.nc HADCRU_tas_1991_2000.nc\n",
    "$ done\n",
    "```\n",
    "In the loop from year 1991 to 2000, use 'cdo cat <input.nc> <output.nc>' to concatenate all years together."
   ]
  },
  {
   "attachments": {},
   "cell_type": "markdown",
   "metadata": {},
   "source": [
    "![4](images/cdo_comp2.png)"
   ]
  },
  {
   "cell_type": "markdown",
   "metadata": {},
   "source": [
    "### Now we want to see the difference between the model data and observation data"
   ]
  },
  {
   "cell_type": "markdown",
   "metadata": {},
   "source": [
    "```\n",
    "$ cdo sub tas_Amon_CESM2_historical_r1i1p1f1_gn_199101-200012.nc HADCRU_tas_1991_2000.nc CESM2_HADCRU_dif.nc\n",
    "```\n",
    "cdo sub <input1.nc>  <input2.nc> <output.nc> ---substract input2.nc from input1.nc with the results being output.nc\n",
    "\n",
    "But got error info as below:"
   ]
  },
  {
   "attachments": {},
   "cell_type": "markdown",
   "metadata": {},
   "source": [
    "![5](images/cdo_comp3.png)"
   ]
  },
  {
   "cell_type": "markdown",
   "metadata": {},
   "source": [
    "This is because the resolution of the model data is different from that of the observation data. CDO provides several ways of data interpolation, one of which being 'cdo remapcon'.\n",
    "\n",
    "**basic usage**\n",
    "```\n",
    "cdo remapcon, <input1.nc> <input2.nc> <output.nc>\n",
    "```\n",
    "Here input1.nc is the file that we want the resolution to be consistent with.\n",
    "So, let's do remapping first and then subtraction.\n",
    "\n",
    "```\n",
    "$ cdo sub -remapcon,HADCRU_tas_1991_2000.nc tas_Amon_CESM2_historical_r1i1p1f1_gn_199101-200012.nc HADCRU_tas_1991_2000.nc CESM2_HADCRU_dif.nc\n",
    "```\n"
   ]
  },
  {
   "cell_type": "markdown",
   "metadata": {},
   "source": [
    "### Let's see how this model data is different from observation data"
   ]
  },
  {
   "cell_type": "markdown",
   "metadata": {},
   "source": [
    "```\n",
    "$ ncview CESM2_HADCRU_dif.nc\n",
    "```"
   ]
  },
  {
   "attachments": {},
   "cell_type": "markdown",
   "metadata": {},
   "source": [
    "![5](images/cdo_comp4.png)"
   ]
  },
  {
   "cell_type": "markdown",
   "metadata": {},
   "source": [
    "![6](images/cdo_anomoly_nino4.png)"
   ]
  }
 ],
 "metadata": {
  "kernelspec": {
   "display_name": "Python 3",
   "language": "python",
   "name": "python3"
  },
  "language_info": {
   "codemirror_mode": {
    "name": "ipython",
    "version": 3
   },
   "file_extension": ".py",
   "mimetype": "text/x-python",
   "name": "python",
   "nbconvert_exporter": "python",
   "pygments_lexer": "ipython3",
   "version": "3.7.3"
  }
 },
 "nbformat": 4,
 "nbformat_minor": 2
}
