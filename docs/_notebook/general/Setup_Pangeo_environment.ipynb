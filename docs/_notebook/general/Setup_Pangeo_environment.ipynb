{
 "cells": [
  {
   "cell_type": "markdown",
   "metadata": {},
   "source": [
    "\n",
    "# Setup for Pangeo Environment on Raijin\n",
    "\n",
    "\n",
    "In this notebook we will go through:\n",
    "\n",
    "- Configuring the Pangeo environment on your Raijin account\n",
    "- Submitting a multi-node Pangeo job to the queue system\n",
    "- Using Jupyter dashboard for loading notebooks and monitoring jobs\n"
   ]
  },
  {
   "cell_type": "markdown",
   "metadata": {},
   "source": [
    "The [Pangeo](http://pangeo.io) software ecosystem involves open source tools such as [xarray](http://xarray.pydata.org/en/stable/), [iris](https://scitools.org.uk/iris/docs/latest/), [dask](https://dask.org/), [Jupyter](https://jupyter.org/) and many other packages. \n",
    "\n",
    "This notebook provides instructions on how to use the Pangeo environment to run a multi-node parallel Jupyter notebook within the queues of Raijin and shows how to interact with it from your desktop.\n",
    "\n",
    "Please note that Pangeo will soon be enabled on Gadi."
   ]
  },
  {
   "cell_type": "markdown",
   "metadata": {},
   "source": [
    "## Configuring your account on Raijin"
   ]
  },
  {
   "cell_type": "markdown",
   "metadata": {},
   "source": [
    "###  Step 1: Enabling Pangeo in your shell envorinment"
   ]
  },
  {
   "cell_type": "markdown",
   "metadata": {},
   "source": [
    "To enable the Pangeo environment, you will use the following commands within jobs, or within an interactive environment:\n",
    "\n",
    "```\n",
    "$ module load pangeo/2019.10\n",
    "$ source ${PANGEO_ROOT}/etc/profile.d/conda.sh\n",
    "$ conda activate pangeo\n",
    "```\n",
    "You should now see Pangeo appear in the brackets in front of the prompt. Note that Pangeo has its own python installation.\n",
    "\n",
    "\n",
    "![1](images/pangeo_setup1.png)"
   ]
  },
  {
   "cell_type": "markdown",
   "metadata": {},
   "source": [
    "![2](images/pangeo_setup2.png)"
   ]
  },
  {
   "cell_type": "markdown",
   "metadata": {},
   "source": [
    "###  Step 2: Configuring your JupyterLab password on Raijin"
   ]
  },
  {
   "cell_type": "markdown",
   "metadata": {},
   "source": [
    "We will use JupyterLab to load notebooks and monitor jobs. JupyterLab is bundled within the Pangeo environment. To setup this environment run the following two commands:\n",
    "\n",
    "```\n",
    "(pangeo) $ jupyter notebook --generate-config\n",
    "(pangeo) $ jupyter notebook password\n",
    "```\n",
    "\n",
    "This is a stand-alone password that you will use later for accessing the JupyterLab server. You can use this command to reset this password at any time."
   ]
  },
  {
   "cell_type": "markdown",
   "metadata": {},
   "source": [
    "### Step 3: Exiting the Pangeo environment"
   ]
  },
  {
   "cell_type": "markdown",
   "metadata": {},
   "source": [
    "You can quit the environment at any time by using \"conda deactivate\":\n",
    "```\n",
    "$ conda deactivate\n",
    "```"
   ]
  },
  {
   "cell_type": "markdown",
   "metadata": {},
   "source": [
    "### Submitting a multi-node Pangeo job to Raijin"
   ]
  },
  {
   "cell_type": "markdown",
   "metadata": {},
   "source": [
    "First create a directory where you will run the jupyter notebook:\n",
    "\n",
    "```\n",
    "$ mkdir ~/pangeo/tutorial\n",
    "\n",
    "```\n",
    "You can create a shell script by copying the following commands into a script file. Let’s name this file run_ipynb_job.sh:\n",
    "\n",
    "```\n",
    "#!/bin/bash\n",
    "#PBS -N pangeo_test\n",
    "#PBS -P c25\n",
    "#PBS -q normal\n",
    "#PBS -l walltime=5:00:00\n",
    "#PBS -l ncpus=32\n",
    "#PBS -l mem=64GB\n",
    "#PBS -l jobfs=100GB\n",
    "module load pangeo/2019.10\n",
    "pangeo.ini.all.sh\n",
    "sleep infinity\n",
    "```\n",
    "\n",
    "Dask requires whole nodes so you need to have a job that needs these resources. In this example we request 2 Raijin Sandy Bridge nodes with 32 CPU and 64GB memory. For further instructions about node types on Raijin, consult the [NCI user guide](https://opus.nci.org.au/display/Help/Running+Jobs) on the specific configurations. \n"
   ]
  },
  {
   "cell_type": "markdown",
   "metadata": {},
   "source": [
    "The above jobscript will load the Pangeo module, run the initialization script called **pangeo.ini.all.sh**, and keeps the environment alive for the lifetime of the PBS job. The initialization script will set up the dask scheduler on one node and multiple workers on all the other nodes. \n",
    "\n",
    "Now, submit the job to the queue:\n",
    "\n",
    "```\n",
    "$ qsub run_ipynb_job.sh\n",
    "\n",
    "```\n",
    "\n",
    "and take note of your job_id (which may look something like *3139991.r-man2*). Check the queue to see when the job is running:\n",
    "\n",
    "```\n",
    "$ qstat <job_id>\n",
    "\n",
    "```\n",
    "\n",
    "\n",
    "![3](images/pangeo_setup3.png)\n",
    "\n"
   ]
  },
  {
   "cell_type": "markdown",
   "metadata": {},
   "source": [
    "### Set up port forwarding to access from your desktop machine"
   ]
  },
  {
   "cell_type": "markdown",
   "metadata": {},
   "source": [
    "Once the job is running on Raijin, there are two files that will appear in your current Raijin directory: \n",
    "\n",
    "* client_cmd\n",
    "* scheduler.json\n",
    "\n",
    "The file client_cmd contains commands to forward network traffic from the defined port number of the worker node to an external client machine (i.e., your desktop) via the login node raijin.nci.org.au. In the example below, JupyterLab uses port 8343 and dask dashboard occupies port 8890 respectively from Raijin worker node r225. Note both port numbers are randomly chosen for each job – they will be different each time you run a job.\n",
    "\n",
    "![4](images/pangeo_setup4.png)\n"
   ]
  },
  {
   "cell_type": "markdown",
   "metadata": {},
   "source": [
    "Next, on your remote machine (e.g., Desktop), run each command separately and enter your Raijin password when prompted."
   ]
  },
  {
   "cell_type": "markdown",
   "metadata": {},
   "source": [
    "CLI_1: \n",
    "\n",
    "```\n",
    "$ ssh -N -L 8343:r225:8343 jbw900@raijin.nci.org.au \n",
    "jbw900@raijin.nci.org.au's password: \n",
    "```\n",
    "\n",
    "Then \"ctrl Z\" and then type \n",
    "\n",
    "```\n",
    "$ bg\n",
    "```\n",
    "\n",
    "CLI_2: \n",
    "\n",
    "```\n",
    "$ ssh -N -L 8890:r225:8890 jbw900@raijin.nci.org.au \n",
    "jbw900@raijin.nci.org.au's password: \n",
    "```\n",
    "\n",
    "Then \"ctrl Z\" and then type \n",
    "\n",
    "```\n",
    "$ bg\n",
    "```"
   ]
  },
  {
   "cell_type": "markdown",
   "metadata": {},
   "source": [
    "### Connect to the remote JupyterLab server from your remote desktop computer\n",
    "\n",
    "In a browser on your local desktop, type the following URL “localhost:8343” – where the port matches the details above:\n",
    "\n",
    "![6](images/pangeo_setup6.png)"
   ]
  },
  {
   "cell_type": "markdown",
   "metadata": {},
   "source": [
    "You will be prompted for your JupyterLab password that you created earlier:\n",
    "![7](images/pangeo_setup7.png)"
   ]
  },
  {
   "cell_type": "markdown",
   "metadata": {},
   "source": [
    "Once your authentication has passed, a JupyterLab interface will be launched in a few seconds.\n",
    "\n",
    "![8](images/pangeo_setup8.png)"
   ]
  },
  {
   "cell_type": "markdown",
   "metadata": {},
   "source": [
    "### Importing a notebook example"
   ]
  },
  {
   "cell_type": "markdown",
   "metadata": {},
   "source": [
    "You can drag and drop a notebook from your local computer into this JupyterLab. Then the file will also appear in your working directory in Raijin:\n",
    "![9](images/pangeo_setup9.png)\n",
    "\n",
    "The screen shot above shows\n",
    "\n",
    "1. Jupyter notebook interface opened from your local computer and connecting to Raijin\n",
    "2. A directory on local computer from where a notebook is dragged and dropped into the JupyterLab interface\n",
    "3. Raijin command window showing that the notebook appears instantly"
   ]
  },
  {
   "cell_type": "markdown",
   "metadata": {},
   "source": [
    "### Setting up your Jupyter notebook to use the dask server"
   ]
  },
  {
   "cell_type": "markdown",
   "metadata": {},
   "source": [
    "**At the beginning of the notebook**"
   ]
  },
  {
   "cell_type": "markdown",
   "metadata": {},
   "source": [
    "To utilise the dask server established from the PBS job, it is necessary to add and run the following cell at the beginning of your notebook: \n",
    "\n",
    "```\n",
    "from dask.distributed import Client,LocalCluster \n",
    "client = Client(scheduler_file='scheduler.json') \n",
    "print(client) \n",
    "```\n",
    "\n",
    "The output will show the configuration of the client and dask cluster. You can check that the number of cores matches what you requested in the job script. Now you could run your notebook as usual."
   ]
  },
  {
   "cell_type": "markdown",
   "metadata": {},
   "source": [
    "**At the end of the jobscript**\n",
    "\n",
    "Add and run a cell as below to gracefully stop the job:\n",
    "\n",
    "```\n",
    "!pangeo.end.sh\n",
    "```"
   ]
  },
  {
   "cell_type": "markdown",
   "metadata": {},
   "source": [
    "### Recap important notes\n",
    "\n",
    "Please make sure the following start and stop instructions are added at the beginning and the end of the notebook respectively.\n",
    "\n",
    "```\n",
    "# start the dask client\n",
    "client =  Client(scheduler_file='scheduler.json')\n",
    " \n",
    "# stop the pbs job.\n",
    "! pangeo.end.sh\n",
    "```"
   ]
  },
  {
   "cell_type": "markdown",
   "metadata": {},
   "source": [
    "### View compute threads using Dask dashboard\n",
    "\n",
    "From your local desktop, open a new tab in the web browser, type the following, the second port in the client_cmd file to open the Dask dashboard. This will allow you to see the dynamic resources of the processing.  In your Jupyter notebook, a computationally intensive task will be recognised with a (*) at the start of a cell that is currently in execution.  In the Dask dashboard you would then see something similar to the following:\n",
    "\n",
    "```\n",
    "localhost:8890\n",
    "```\n",
    "\n",
    "![10](images/pangeo_setup10.png)"
   ]
  },
  {
   "cell_type": "markdown",
   "metadata": {},
   "source": [
    "### Run Jupyter notebook in a batch job\n",
    "\n",
    "Of course you don’t need to run jupyter notebooks interactively. You can just submit as a job."
   ]
  },
  {
   "cell_type": "markdown",
   "metadata": {},
   "source": [
    "### Step 1: convert your jupyter notebook to a python script"
   ]
  },
  {
   "cell_type": "markdown",
   "metadata": {},
   "source": [
    "```\n",
    "$ jupyter nbconvert --to script [YOUR_NOTEBOOK}.ipynb\n",
    "```\n",
    "\n",
    "Make sure you have added the following lines at the beginning of the python script.\n",
    "\n",
    "```\n",
    "from dask.distributed import Client,LocalCluster \n",
    "client = Client(scheduler_file='scheduler.json') \n",
    "print(client) \n",
    "```\n"
   ]
  },
  {
   "cell_type": "markdown",
   "metadata": {},
   "source": [
    "### Step 2: Create the job script as below"
   ]
  },
  {
   "cell_type": "markdown",
   "metadata": {},
   "source": [
    "```\n",
    "#!/bin/bash \n",
    "#PBS -N pangeo_test \n",
    "#PBS -q normal\n",
    "#PBS -P c25\n",
    "#PBS -l walltime=5:00:00 \n",
    "#PBS -l ncpus=32 \n",
    "#PBS -l mem=64GB \n",
    "#PBS -l jobfs=100GB \n",
    " \n",
    "module load pangeo/2019.10 \n",
    "pangeo.ini.all.sh \n",
    "source ${PANGEO_ROOT}/etc/profile.d/conda.sh \n",
    "conda activate pangeo \n",
    " \n",
    "cd $PBS_O_WORKDIR \n",
    "python YOUR_PYSCRIPT_NAME.py \n",
    "pangeo.end.sh\n",
    "```\n",
    "\n",
    "Modify parameters that suit your case, and name it as **run_py.sh**"
   ]
  },
  {
   "cell_type": "markdown",
   "metadata": {},
   "source": [
    "### Step 3: Submit your job script via 'qsub' command"
   ]
  },
  {
   "cell_type": "markdown",
   "metadata": {},
   "source": [
    "\n",
    "```\n",
    "$ qsub run_py.sh\n",
    "```"
   ]
  },
  {
   "cell_type": "markdown",
   "metadata": {},
   "source": [
    "### Reference\n",
    "\n",
    "- http://pangeo.io"
   ]
  }
 ],
 "metadata": {
  "kernelspec": {
   "display_name": "Python 3",
   "language": "python",
   "name": "python3"
  },
  "language_info": {
   "codemirror_mode": {
    "name": "ipython",
    "version": 3
   },
   "file_extension": ".py",
   "mimetype": "text/x-python",
   "name": "python",
   "nbconvert_exporter": "python",
   "pygments_lexer": "ipython3",
   "version": "3.7.3"
  }
 },
 "nbformat": 4,
 "nbformat_minor": 2
}
