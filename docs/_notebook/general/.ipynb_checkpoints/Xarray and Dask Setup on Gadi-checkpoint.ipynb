{
 "cells": [
  {
   "cell_type": "markdown",
   "metadata": {},
   "source": [
    "![logo](../../_static/images/NCI_logo.png)\n",
    "\n",
    "-------\n",
    "\n",
    "# Xarray and Dask Setup on Gadi\n",
    "\n",
    "In this notebook:\n",
    "\n",
    "- Install conda and create an environment \n",
    "- Configure Jupyter\n",
    "- Launch Dask with a job scheduler\n",
    "- Launch a Jupyter server for yoru job\n",
    "- Connect to Jupyter and the Dask dashboard from your local computer\n",
    "\n",
    "This example is created based on the document of from [Pangeo website](http://pangeo.io/setup_guides/hpc.html)."
   ]
  },
  {
   "cell_type": "markdown",
   "metadata": {},
   "source": [
    "### Installing a software environment\n",
    "\n",
    "1. Login Gadi \n",
    "\n",
    "```\n",
    "    $ ssh -l aaa777 raijin.nci.org.au\n",
    "    \n",
    "```  \n",
    "\n",
    "2. Make a new directory in where you install your own software, download and install Miniconda\n",
    "\n",
    "```\n",
    "    $ mkdir pangeo\n",
    "    $ wget https://repo.continuum.io/miniconda/Miniconda3-latest-Linux-x86_64.sh\n",
    "    $ chmod +x Miniconda3-latest-Linux-x86_64.sh\n",
    "    $ ./Miniconda3-latest-Linux-x86_64.sh\n",
    "    \n",
    "``` \n",
    "\n",
    "3. Create a new conda environment. Depending on your application, you may choose to add additional conda packages to this list. You can choose your own name. Here we use **pangeo** as the environment name.\n",
    "\n",
    "```\n",
    "    $ conda create -n pangeo -c conda-forge \\\n",
    "    python=3.6 xarray \\\n",
    "    jupyterlab nbserverproxy \\\n",
    "    dask distributed mpi4py dask-jobqueue\n",
    "``` \n",
    "\n",
    "Depending on your application, you may choose to add additional conda packages to this list.\n",
    "\n",
    "4. Activate this environment\n",
    "\n",
    "```\n",
    "    $ conda activate pangeo\n",
    "``` \n",
    "\n",
    "5. Your prompt should now look something like this\n",
    "\n",
    "```\n",
    "(pangeo)$ conda activate pangeo\n",
    "``` "
   ]
  },
  {
   "cell_type": "markdown",
   "metadata": {},
   "source": [
    "### Configure Jupyter\n",
    "\n",
    "Jupyter notebook servers include a password for security. We’re going to setup a password for ourselves. First we generate the Jupyter config file and invoking the commond when using recent Jupyter iteration:\n",
    "\n",
    "```\n",
    "(pangeo)$ jupyter notebook --generate-config\n",
    "(pangeo)$ jupyter notebook password\n",
    "``` \n",
    "\n",
    "This created a file in ~/.jupyter/jupyter_notebook_config.py, where your password is stored. "
   ]
  },
  {
   "cell_type": "markdown",
   "metadata": {},
   "source": [
    "### Set up a Dask jobqueue using PBS job scheduler\n",
    "\n",
    "1. You need two files (**pangeo.ini.all.sh** and **pangeo.worker.sh**) to set up the jobqueue on Gadi. You can download a copy and modify the path in your case.\n",
    "\n",
    "2. Create a new directory to do your work.\n",
    "\n",
    "```\n",
    "(pangeo)$ mkdir pangeo_test\n",
    "```\n",
    "\n",
    "3. Gadi uses the PBS job scheduler\n",
    "\n",
    "```\n",
    "(pangeo)$ qsub -I -q express -lncpus=32,mem=64GB,jobfs=100GB\n",
    "```\n",
    "In this example, we require two nodes, 32cpus each, 64GB memory. It will take a little while before your get the resource that you asked for depending on the queue among other users in your group.\n",
    "\n",
    "4. Once it is complete, two files should appears.\n",
    "\n",
    "- schedular.json\n",
    "- xxx.sh\n",
    "\n",
    "5. Copy those files into the your local computer and type localhost:xxxx on your web browser, then you can open your notebook to run the job. The requests from your notebook allows you interactly communicate with Gadi and monitorinig the threads using Dask dashboard.\n",
    "\n",
    "\n"
   ]
  }
 ],
 "metadata": {
  "kernelspec": {
   "display_name": "Python 3",
   "language": "python",
   "name": "python3"
  },
  "language_info": {
   "codemirror_mode": {
    "name": "ipython",
    "version": 3
   },
   "file_extension": ".py",
   "mimetype": "text/x-python",
   "name": "python",
   "nbconvert_exporter": "python",
   "pygments_lexer": "ipython3",
   "version": "3.7.3"
  }
 },
 "nbformat": 4,
 "nbformat_minor": 2
}
